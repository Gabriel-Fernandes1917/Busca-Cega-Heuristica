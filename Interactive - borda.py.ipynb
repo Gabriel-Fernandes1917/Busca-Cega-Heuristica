{
 "cells": [
  {
   "cell_type": "code",
   "execution_count": 5,
   "metadata": {},
   "outputs": [
    {
     "name": "stdout",
     "output_type": "stream",
     "text": [
      "[(5, 4), (6, 4), (1, 2)]\n",
      "[(1, 2), (1, 4), (1, 5)]\n",
      "[]\n",
      "não entrou\n",
      "[(5, 4), (6, 4), (1, 2)]\n",
      "[(1, 2), (1, 4), (1, 5)]\n",
      "[]\n",
      "[(5, 4), (6, 4), (1, 2)]\n",
      "[(1, 2), (1, 4), (1, 5)]\n",
      "[(6, 4)]\n"
     ]
    }
   ],
   "source": [
    "def funBorda(filaDeEstados, listafechada, borda):\n",
    "  for i in range(len(filaDeEstados)):\n",
    "    print(listafechada)\n",
    "    print(filaDeEstados)\n",
    "    print(borda)\n",
    "    if filaDeEstados[i] not in listafechada:\n",
    "      borda.append(listafechada[i])\n",
    "    else:\n",
    "      print(\"não entrou\")\n",
    "\n",
    "filaDeEstados = [(1,2),(1,4),(1,5)]\n",
    "listafechada = [(5,4),(6,4),(1,2)]\n",
    "borda = []\n",
    "funBorda(filaDeEstados, listafechada, borda)"
   ]
  }
 ],
 "metadata": {
  "kernelspec": {
   "display_name": "Python 3",
   "language": "python",
   "name": "python3"
  },
  "language_info": {
   "name": "python",
   "version": "3.11.5"
  }
 },
 "nbformat": 4,
 "nbformat_minor": 2
}
